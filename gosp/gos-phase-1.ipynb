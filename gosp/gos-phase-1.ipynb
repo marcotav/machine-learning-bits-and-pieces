{
 "cells": [
  {
   "cell_type": "markdown",
   "metadata": {
    "extensions": {
     "jupyter_dashboards": {
      "version": 1,
      "views": {
       "grid_default": {
        "col": 0,
        "height": 15,
        "hidden": false,
        "row": 0,
        "width": 12
       },
       "report_default": {}
      }
     }
    },
    "slideshow": {
     "slide_type": "skip"
    }
   },
   "source": [
    "# Clustering for r-f\n",
    "\n",
    "## Phase 1\n",
    "\n",
    "\n",
    "### Notebook by [Marco Tavora](https://marcotavora.me/)\n",
    "\n",
    "## Table of contents\n",
    "\n",
    "1. [Introduction](#Introduction)\n",
    "2. [Import modules](#Import-modules)\n",
    "4. [Auxiliar functions](#Auxiliar-functions)\n",
    "3. [RetailMatch](#RetailMatch)\n",
    "5. [Toy Dataset](#Toy-Dataset)\n",
    "5. [Shoppings](#Shopping)"
   ]
  },
  {
   "cell_type": "markdown",
   "metadata": {
    "extensions": {
     "jupyter_dashboards": {
      "version": 1,
      "views": {
       "grid_default": {
        "col": 0,
        "height": 15,
        "hidden": false,
        "row": 0,
        "width": 12
       },
       "report_default": {}
      }
     }
    },
    "slideshow": {
     "slide_type": "skip"
    }
   },
   "source": [
    "## Introduction\n",
    "[[go back to the top]](#Table-of-contents)\n",
    "\n",
    "From [this source](https://arxiv.org/pdf/1306.1704.pdf):\n",
    "\n",
    "> The problem of identifying the optimal location for a new retail store has been the focus of past research,  especially in the field of land economy, due to its importance in the success of a business. Traditional approaches to the problem have factored in demographics, revenue and aggregated human flow statistics from nearby or remote areas. However, the acquisition of relevant data is usually expensive. With the growth of location-based social networks, fine grained data describing user mobility and popularity of places has recently become attainable. "
   ]
  },
  {
   "cell_type": "markdown",
   "metadata": {
    "extensions": {
     "jupyter_dashboards": {
      "version": 1,
      "views": {
       "grid_default": {
        "col": 0,
        "height": 15,
        "hidden": false,
        "row": 0,
        "width": 12
       },
       "report_default": {}
      }
     }
    },
    "slideshow": {
     "slide_type": "skip"
    }
   },
   "source": [
    "## Import modules\n",
    "[[go back to the top]](#Table-of-contents)\n",
    "\n",
    "This project... "
   ]
  },
  {
   "cell_type": "code",
   "execution_count": 2,
   "metadata": {
    "extensions": {
     "jupyter_dashboards": {
      "version": 1,
      "views": {
       "grid_default": {
        "hidden": true
       },
       "report_default": {}
      }
     }
    },
    "slideshow": {
     "slide_type": "skip"
    }
   },
   "outputs": [],
   "source": [
    "%run modules_rf.ipynb "
   ]
  },
  {
   "cell_type": "markdown",
   "metadata": {
    "extensions": {
     "jupyter_dashboards": {
      "version": 1,
      "views": {
       "grid_default": {
        "hidden": true
       },
       "report_default": {}
      }
     }
    },
    "slideshow": {
     "slide_type": "skip"
    }
   },
   "source": [
    "## Auxiliar functions\n",
    "[[go back to the top]](#Table-of-contents)"
   ]
  },
  {
   "cell_type": "code",
   "execution_count": 11,
   "metadata": {
    "extensions": {
     "jupyter_dashboards": {
      "version": 1,
      "views": {
       "grid_default": {
        "hidden": true
       },
       "report_default": {}
      }
     }
    },
    "slideshow": {
     "slide_type": "skip"
    }
   },
   "outputs": [],
   "source": [
    "def data_generator(rows, mu, ratio):\n",
    "    nums = np.random.normal(mu, \n",
    "                            mu*ratio, \n",
    "                            rows)\n",
    "    nums = [int(num) for \n",
    "            num in nums]\n",
    "    return nums\n",
    "\n",
    "def dummy_generator(rows, num_classes):\n",
    "    lst = []\n",
    "    for _ in range(rows):\n",
    "        lst.append(randint(0, num_classes))\n",
    "    return lst\n",
    "\n",
    "def columns_generator(data, ratio):\n",
    "    for col in data.columns.tolist()[1:]:\n",
    "        data[col] = data_generator(rows, \n",
    "                                   data[col].mean(), \n",
    "                                   ratio)\n",
    "    return data\n",
    "\n",
    "def class_to_name(class_name):\n",
    "    return(str(class_name).split('(')[0])\n",
    "\n",
    "\n",
    "\n",
    "def lists_to_df(lst1,lst2,col_1,col_2):\n",
    "    return pd.DataFrame({col_1: \n",
    "                         lst1,\n",
    "                         col_2:\n",
    "                         lst2})\n",
    "\n",
    "\n",
    "def s_to_df(s, idx, col_name):\n",
    "    s = s.to_frame().reset_index()\n",
    "    s.columns = [idx, col_name]\n",
    "    return s\n",
    "\n",
    "def multi_replace(t, d):\n",
    "    for i, j in d.items():\n",
    "        t = t.replace(i, j)\n",
    "    return t\n",
    "\n",
    "def pairs_comb(df, cols, n):\n",
    "    return [list(cols) for cols in \n",
    "         itertools.combinations(df[cols], n)]"
   ]
  },
  {
   "cell_type": "markdown",
   "metadata": {
    "extensions": {
     "jupyter_dashboards": {
      "version": 1,
      "views": {
       "grid_default": {
        "col": 0,
        "height": 5,
        "hidden": false,
        "row": 15,
        "width": 12
       },
       "report_default": {}
      }
     }
    }
   },
   "source": [
    "## Table of contents\n",
    "\n",
    "1. [Introduction](#Introduction)\n",
    "2. [Data](#Data)\n",
    "3. [K-Means Clustering](#K-Means-Clustering)"
   ]
  },
  {
   "cell_type": "markdown",
   "metadata": {
    "extensions": {
     "jupyter_dashboards": {
      "version": 1,
      "views": {
       "grid_default": {
        "col": 0,
        "height": 4,
        "hidden": false,
        "row": 20,
        "width": 4
       },
       "report_default": {}
      }
     }
    }
   },
   "source": [
    "## RetailMatch\n",
    "[[go back to the top]](#Table-of-contents)\n",
    "\n",
    "\n",
    "[RetailMatch](https://www.retailmatch.io/agents/)\n",
    "\n",
    "<img src=\"retailmatch1.png\" style=\"width:400px;\"/>\n",
    "\n",
    "<img src=\"retailmatch2.png\" style=\"width:400px;\"/>\n",
    "\n",
    "<img src=\"retailmatch3.png\" style=\"width:400px;\"/>\n",
    "\n",
    "<img src=\"retailmatch4.png\" style=\"width:400px;\"/>\n",
    "\n",
    "<img src=\"retailmatch5.png\" style=\"width:400px;\"/>\n",
    "\n",
    "<img src=\"retailmatch6.png\" style=\"width:400px;\"/>\n",
    "\n",
    "<img src=\"retailmatch7.png\" style=\"width:400px;\"/>"
   ]
  },
  {
   "cell_type": "markdown",
   "metadata": {
    "extensions": {
     "jupyter_dashboards": {
      "version": 1,
      "views": {
       "grid_default": {
        "col": 0,
        "height": 4,
        "hidden": false,
        "row": 20,
        "width": 4
       },
       "report_default": {}
      }
     }
    }
   },
   "source": [
    "Sources:\n",
    "- [Lojas em Shopping Centers](http://www.faccamp.br/new/arq/pdf/mestrado/Documentos/producao_discente/givaldo_guilherme_dos_santos.pdf)\n",
    "\n",
    "\n",
    "<img src=\"shopping_info.png\" style=\"width:400px;\"/>"
   ]
  },
  {
   "cell_type": "markdown",
   "metadata": {
    "extensions": {
     "jupyter_dashboards": {
      "version": 1,
      "views": {
       "grid_default": {
        "hidden": true
       },
       "report_default": {
        "hidden": true
       }
      }
     }
    }
   },
   "source": [
    "## Auxiliar functions\n",
    "[[go back to the top]](#Table-of-contents)"
   ]
  },
  {
   "cell_type": "markdown",
   "metadata": {
    "extensions": {
     "jupyter_dashboards": {
      "version": 1,
      "views": {
       "grid_default": {
        "col": 0,
        "height": 7,
        "hidden": false,
        "row": 24,
        "width": 12
       },
       "report_default": {}
      }
     }
    }
   },
   "source": [
    "## Toy Dataset\n",
    "[[go back to the top]](#Table-of-contents)"
   ]
  },
  {
   "cell_type": "markdown",
   "metadata": {
    "extensions": {
     "jupyter_dashboards": {
      "version": 1,
      "views": {
       "grid_default": {
        "col": 0,
        "height": 7,
        "hidden": false,
        "row": 24,
        "width": 12
       },
       "report_default": {}
      }
     }
    }
   },
   "source": [
    "## Shoppings\n",
    "[[go back to the top]](#Table-of-contents)"
   ]
  },
  {
   "cell_type": "code",
   "execution_count": 257,
   "metadata": {
    "extensions": {
     "jupyter_dashboards": {
      "version": 1,
      "views": {
       "grid_default": {
        "hidden": true
       },
       "report_default": {}
      }
     }
    }
   },
   "outputs": [
    {
     "data": {
      "text/html": [
       "<div>\n",
       "<style scoped>\n",
       "    .dataframe tbody tr th:only-of-type {\n",
       "        vertical-align: middle;\n",
       "    }\n",
       "\n",
       "    .dataframe tbody tr th {\n",
       "        vertical-align: top;\n",
       "    }\n",
       "\n",
       "    .dataframe thead th {\n",
       "        text-align: right;\n",
       "    }\n",
       "</style>\n",
       "<table border=\"1\" class=\"dataframe\">\n",
       "  <thead>\n",
       "    <tr style=\"text-align: right;\">\n",
       "      <th></th>\n",
       "      <th>shopping</th>\n",
       "      <th>total_de_lojas</th>\n",
       "      <th>total_ABL_m2</th>\n",
       "      <th>area_influencia_km2</th>\n",
       "      <th>quantidade_domicilios_mil</th>\n",
       "      <th>potencial_de_consumo_milhoes</th>\n",
       "    </tr>\n",
       "  </thead>\n",
       "  <tbody>\n",
       "    <tr>\n",
       "      <th>0</th>\n",
       "      <td>0</td>\n",
       "      <td>389</td>\n",
       "      <td>15256</td>\n",
       "      <td>7</td>\n",
       "      <td>7</td>\n",
       "      <td>1369</td>\n",
       "    </tr>\n",
       "    <tr>\n",
       "      <th>1</th>\n",
       "      <td>1</td>\n",
       "      <td>540</td>\n",
       "      <td>36750</td>\n",
       "      <td>6</td>\n",
       "      <td>10</td>\n",
       "      <td>986</td>\n",
       "    </tr>\n",
       "    <tr>\n",
       "      <th>2</th>\n",
       "      <td>2</td>\n",
       "      <td>394</td>\n",
       "      <td>33647</td>\n",
       "      <td>5</td>\n",
       "      <td>8</td>\n",
       "      <td>1275</td>\n",
       "    </tr>\n",
       "    <tr>\n",
       "      <th>3</th>\n",
       "      <td>3</td>\n",
       "      <td>365</td>\n",
       "      <td>16543</td>\n",
       "      <td>4</td>\n",
       "      <td>12</td>\n",
       "      <td>1167</td>\n",
       "    </tr>\n",
       "    <tr>\n",
       "      <th>4</th>\n",
       "      <td>4</td>\n",
       "      <td>319</td>\n",
       "      <td>30950</td>\n",
       "      <td>3</td>\n",
       "      <td>10</td>\n",
       "      <td>616</td>\n",
       "    </tr>\n",
       "  </tbody>\n",
       "</table>\n",
       "</div>"
      ],
      "text/plain": [
       "   shopping  total_de_lojas  total_ABL_m2  area_influencia_km2  \\\n",
       "0         0             389         15256                    7   \n",
       "1         1             540         36750                    6   \n",
       "2         2             394         33647                    5   \n",
       "3         3             365         16543                    4   \n",
       "4         4             319         30950                    3   \n",
       "\n",
       "   quantidade_domicilios_mil  potencial_de_consumo_milhoes  \n",
       "0                          7                          1369  \n",
       "1                         10                           986  \n",
       "2                          8                          1275  \n",
       "3                         12                          1167  \n",
       "4                         10                           616  "
      ]
     },
     "execution_count": 257,
     "metadata": {},
     "output_type": "execute_result"
    },
    {
     "data": {
      "text/html": [
       "<div>\n",
       "<style scoped>\n",
       "    .dataframe tbody tr th:only-of-type {\n",
       "        vertical-align: middle;\n",
       "    }\n",
       "\n",
       "    .dataframe tbody tr th {\n",
       "        vertical-align: top;\n",
       "    }\n",
       "\n",
       "    .dataframe thead th {\n",
       "        text-align: right;\n",
       "    }\n",
       "</style>\n",
       "<table border=\"1\" class=\"dataframe\">\n",
       "  <thead>\n",
       "    <tr style=\"text-align: right;\">\n",
       "      <th></th>\n",
       "      <th>shopping</th>\n",
       "      <th>total_de_lojas</th>\n",
       "      <th>total_ABL_m2</th>\n",
       "      <th>area_influencia_km2</th>\n",
       "      <th>quantidade_domicilios_mil</th>\n",
       "      <th>potencial_de_consumo_milhoes</th>\n",
       "    </tr>\n",
       "  </thead>\n",
       "  <tbody>\n",
       "    <tr>\n",
       "      <th>995</th>\n",
       "      <td>995</td>\n",
       "      <td>358</td>\n",
       "      <td>27612</td>\n",
       "      <td>6</td>\n",
       "      <td>6</td>\n",
       "      <td>972</td>\n",
       "    </tr>\n",
       "    <tr>\n",
       "      <th>996</th>\n",
       "      <td>996</td>\n",
       "      <td>289</td>\n",
       "      <td>29738</td>\n",
       "      <td>5</td>\n",
       "      <td>7</td>\n",
       "      <td>860</td>\n",
       "    </tr>\n",
       "    <tr>\n",
       "      <th>997</th>\n",
       "      <td>997</td>\n",
       "      <td>230</td>\n",
       "      <td>34141</td>\n",
       "      <td>4</td>\n",
       "      <td>16</td>\n",
       "      <td>710</td>\n",
       "    </tr>\n",
       "    <tr>\n",
       "      <th>998</th>\n",
       "      <td>998</td>\n",
       "      <td>365</td>\n",
       "      <td>28738</td>\n",
       "      <td>4</td>\n",
       "      <td>3</td>\n",
       "      <td>518</td>\n",
       "    </tr>\n",
       "    <tr>\n",
       "      <th>999</th>\n",
       "      <td>998</td>\n",
       "      <td>327</td>\n",
       "      <td>16488</td>\n",
       "      <td>5</td>\n",
       "      <td>8</td>\n",
       "      <td>1028</td>\n",
       "    </tr>\n",
       "  </tbody>\n",
       "</table>\n",
       "</div>"
      ],
      "text/plain": [
       "     shopping  total_de_lojas  total_ABL_m2  area_influencia_km2  \\\n",
       "995       995             358         27612                    6   \n",
       "996       996             289         29738                    5   \n",
       "997       997             230         34141                    4   \n",
       "998       998             365         28738                    4   \n",
       "999       998             327         16488                    5   \n",
       "\n",
       "     quantidade_domicilios_mil  potencial_de_consumo_milhoes  \n",
       "995                          6                           972  \n",
       "996                          7                           860  \n",
       "997                         16                           710  \n",
       "998                          3                           518  \n",
       "999                          8                          1028  "
      ]
     },
     "execution_count": 257,
     "metadata": {},
     "output_type": "execute_result"
    },
    {
     "data": {
      "text/plain": [
       "(1000, 6)"
      ]
     },
     "execution_count": 257,
     "metadata": {},
     "output_type": "execute_result"
    }
   ],
   "source": [
    "shopping = pd.read_csv('datashopping.csv', index_col=0)\n",
    "shopping.head()\n",
    "shopping.tail()\n",
    "shopping.shape"
   ]
  },
  {
   "cell_type": "markdown",
   "metadata": {},
   "source": [
    "To each row in the `shopping` dataframe there is a full dataframe `varejista_shopping_0`. Now I will concatenate the first row of `shopping` with the dataframe `varejista_shopping_0`."
   ]
  },
  {
   "cell_type": "code",
   "execution_count": 258,
   "metadata": {},
   "outputs": [
    {
     "data": {
      "text/html": [
       "<div>\n",
       "<style scoped>\n",
       "    .dataframe tbody tr th:only-of-type {\n",
       "        vertical-align: middle;\n",
       "    }\n",
       "\n",
       "    .dataframe tbody tr th {\n",
       "        vertical-align: top;\n",
       "    }\n",
       "\n",
       "    .dataframe thead th {\n",
       "        text-align: right;\n",
       "    }\n",
       "</style>\n",
       "<table border=\"1\" class=\"dataframe\">\n",
       "  <thead>\n",
       "    <tr style=\"text-align: right;\">\n",
       "      <th></th>\n",
       "      <th>loja</th>\n",
       "      <th>tamanho_da_loja</th>\n",
       "      <th>tamanho_da_frente_m</th>\n",
       "      <th>corredor</th>\n",
       "      <th>fluxo_de_pessoas_corredor_minuto</th>\n",
       "      <th>shopping</th>\n",
       "      <th>total_de_lojas</th>\n",
       "      <th>total_ABL_m2</th>\n",
       "      <th>area_influencia_km2</th>\n",
       "      <th>quantidade_domicilios_mil</th>\n",
       "      <th>potencial_de_consumo_milhoes</th>\n",
       "    </tr>\n",
       "  </thead>\n",
       "  <tbody>\n",
       "    <tr>\n",
       "      <th>0</th>\n",
       "      <td>0</td>\n",
       "      <td>41</td>\n",
       "      <td>5</td>\n",
       "      <td>3</td>\n",
       "      <td>24</td>\n",
       "      <td>0</td>\n",
       "      <td>389</td>\n",
       "      <td>15256</td>\n",
       "      <td>7</td>\n",
       "      <td>7</td>\n",
       "      <td>1369</td>\n",
       "    </tr>\n",
       "    <tr>\n",
       "      <th>1</th>\n",
       "      <td>1</td>\n",
       "      <td>42</td>\n",
       "      <td>5</td>\n",
       "      <td>1</td>\n",
       "      <td>26</td>\n",
       "      <td>0</td>\n",
       "      <td>389</td>\n",
       "      <td>15256</td>\n",
       "      <td>7</td>\n",
       "      <td>7</td>\n",
       "      <td>1369</td>\n",
       "    </tr>\n",
       "    <tr>\n",
       "      <th>2</th>\n",
       "      <td>2</td>\n",
       "      <td>29</td>\n",
       "      <td>5</td>\n",
       "      <td>2</td>\n",
       "      <td>20</td>\n",
       "      <td>0</td>\n",
       "      <td>389</td>\n",
       "      <td>15256</td>\n",
       "      <td>7</td>\n",
       "      <td>7</td>\n",
       "      <td>1369</td>\n",
       "    </tr>\n",
       "    <tr>\n",
       "      <th>3</th>\n",
       "      <td>3</td>\n",
       "      <td>33</td>\n",
       "      <td>3</td>\n",
       "      <td>4</td>\n",
       "      <td>26</td>\n",
       "      <td>0</td>\n",
       "      <td>389</td>\n",
       "      <td>15256</td>\n",
       "      <td>7</td>\n",
       "      <td>7</td>\n",
       "      <td>1369</td>\n",
       "    </tr>\n",
       "    <tr>\n",
       "      <th>4</th>\n",
       "      <td>4</td>\n",
       "      <td>29</td>\n",
       "      <td>2</td>\n",
       "      <td>4</td>\n",
       "      <td>20</td>\n",
       "      <td>0</td>\n",
       "      <td>389</td>\n",
       "      <td>15256</td>\n",
       "      <td>7</td>\n",
       "      <td>7</td>\n",
       "      <td>1369</td>\n",
       "    </tr>\n",
       "  </tbody>\n",
       "</table>\n",
       "</div>"
      ],
      "text/plain": [
       "   loja  tamanho_da_loja  tamanho_da_frente_m  corredor  \\\n",
       "0     0               41                    5         3   \n",
       "1     1               42                    5         1   \n",
       "2     2               29                    5         2   \n",
       "3     3               33                    3         4   \n",
       "4     4               29                    2         4   \n",
       "\n",
       "   fluxo_de_pessoas_corredor_minuto  shopping  total_de_lojas  total_ABL_m2  \\\n",
       "0                                24         0             389         15256   \n",
       "1                                26         0             389         15256   \n",
       "2                                20         0             389         15256   \n",
       "3                                26         0             389         15256   \n",
       "4                                20         0             389         15256   \n",
       "\n",
       "   area_influencia_km2  quantidade_domicilios_mil  \\\n",
       "0                    7                          7   \n",
       "1                    7                          7   \n",
       "2                    7                          7   \n",
       "3                    7                          7   \n",
       "4                    7                          7   \n",
       "\n",
       "   potencial_de_consumo_milhoes  \n",
       "0                          1369  \n",
       "1                          1369  \n",
       "2                          1369  \n",
       "3                          1369  \n",
       "4                          1369  "
      ]
     },
     "execution_count": 258,
     "metadata": {},
     "output_type": "execute_result"
    }
   ],
   "source": [
    "loja_shopping_0 = pd.read_csv('dataloja.csv')\n",
    "\n",
    "\n",
    "row = list(shopping.iloc[0,:])\n",
    "cols = shopping.columns.tolist()\n",
    "\n",
    "for i in range(len(shopping.columns.tolist())):\n",
    "    loja_shopping_0[cols[i]] = row[i]\n",
    "    \n",
    "loja_shopping_0.head()"
   ]
  },
  {
   "cell_type": "code",
   "execution_count": 259,
   "metadata": {},
   "outputs": [
    {
     "data": {
      "text/html": [
       "<div>\n",
       "<style scoped>\n",
       "    .dataframe tbody tr th:only-of-type {\n",
       "        vertical-align: middle;\n",
       "    }\n",
       "\n",
       "    .dataframe tbody tr th {\n",
       "        vertical-align: top;\n",
       "    }\n",
       "\n",
       "    .dataframe thead th {\n",
       "        text-align: right;\n",
       "    }\n",
       "</style>\n",
       "<table border=\"1\" class=\"dataframe\">\n",
       "  <thead>\n",
       "    <tr style=\"text-align: right;\">\n",
       "      <th></th>\n",
       "      <th>tamanho_da_loja</th>\n",
       "      <th>tamanho_da_frente_m</th>\n",
       "      <th>corredor</th>\n",
       "      <th>fluxo_de_pessoas_corredor_minuto</th>\n",
       "      <th>shopping</th>\n",
       "      <th>total_de_lojas</th>\n",
       "      <th>total_ABL_m2</th>\n",
       "      <th>area_influencia_km2</th>\n",
       "      <th>quantidade_domicilios_mil</th>\n",
       "      <th>potencial_de_consumo_milhoes</th>\n",
       "    </tr>\n",
       "  </thead>\n",
       "  <tbody>\n",
       "    <tr>\n",
       "      <th>0</th>\n",
       "      <td>41</td>\n",
       "      <td>5</td>\n",
       "      <td>3</td>\n",
       "      <td>24</td>\n",
       "      <td>0</td>\n",
       "      <td>389</td>\n",
       "      <td>15256</td>\n",
       "      <td>7</td>\n",
       "      <td>7</td>\n",
       "      <td>1369</td>\n",
       "    </tr>\n",
       "    <tr>\n",
       "      <th>1</th>\n",
       "      <td>42</td>\n",
       "      <td>5</td>\n",
       "      <td>1</td>\n",
       "      <td>26</td>\n",
       "      <td>0</td>\n",
       "      <td>389</td>\n",
       "      <td>15256</td>\n",
       "      <td>7</td>\n",
       "      <td>7</td>\n",
       "      <td>1369</td>\n",
       "    </tr>\n",
       "    <tr>\n",
       "      <th>2</th>\n",
       "      <td>29</td>\n",
       "      <td>5</td>\n",
       "      <td>2</td>\n",
       "      <td>20</td>\n",
       "      <td>0</td>\n",
       "      <td>389</td>\n",
       "      <td>15256</td>\n",
       "      <td>7</td>\n",
       "      <td>7</td>\n",
       "      <td>1369</td>\n",
       "    </tr>\n",
       "    <tr>\n",
       "      <th>3</th>\n",
       "      <td>33</td>\n",
       "      <td>3</td>\n",
       "      <td>4</td>\n",
       "      <td>26</td>\n",
       "      <td>0</td>\n",
       "      <td>389</td>\n",
       "      <td>15256</td>\n",
       "      <td>7</td>\n",
       "      <td>7</td>\n",
       "      <td>1369</td>\n",
       "    </tr>\n",
       "    <tr>\n",
       "      <th>4</th>\n",
       "      <td>29</td>\n",
       "      <td>2</td>\n",
       "      <td>4</td>\n",
       "      <td>20</td>\n",
       "      <td>0</td>\n",
       "      <td>389</td>\n",
       "      <td>15256</td>\n",
       "      <td>7</td>\n",
       "      <td>7</td>\n",
       "      <td>1369</td>\n",
       "    </tr>\n",
       "  </tbody>\n",
       "</table>\n",
       "</div>"
      ],
      "text/plain": [
       "   tamanho_da_loja  tamanho_da_frente_m  corredor  \\\n",
       "0               41                    5         3   \n",
       "1               42                    5         1   \n",
       "2               29                    5         2   \n",
       "3               33                    3         4   \n",
       "4               29                    2         4   \n",
       "\n",
       "   fluxo_de_pessoas_corredor_minuto  shopping  total_de_lojas  total_ABL_m2  \\\n",
       "0                                24         0             389         15256   \n",
       "1                                26         0             389         15256   \n",
       "2                                20         0             389         15256   \n",
       "3                                26         0             389         15256   \n",
       "4                                20         0             389         15256   \n",
       "\n",
       "   area_influencia_km2  quantidade_domicilios_mil  \\\n",
       "0                    7                          7   \n",
       "1                    7                          7   \n",
       "2                    7                          7   \n",
       "3                    7                          7   \n",
       "4                    7                          7   \n",
       "\n",
       "   potencial_de_consumo_milhoes  \n",
       "0                          1369  \n",
       "1                          1369  \n",
       "2                          1369  \n",
       "3                          1369  \n",
       "4                          1369  "
      ]
     },
     "execution_count": 259,
     "metadata": {},
     "output_type": "execute_result"
    }
   ],
   "source": [
    "loja_shopping_0 = loja_shopping_0.iloc[:,1:]\n",
    "loja_shopping_0.head()"
   ]
  },
  {
   "cell_type": "code",
   "execution_count": 198,
   "metadata": {},
   "outputs": [
    {
     "name": "stdout",
     "output_type": "stream",
     "text": [
      "[False, False, False, False, False, False, False, False, False, False]\n"
     ]
    }
   ],
   "source": [
    "print(list(loja_shopping_0.isnull().any()))"
   ]
  },
  {
   "cell_type": "code",
   "execution_count": 260,
   "metadata": {},
   "outputs": [],
   "source": [
    "varejista = pd.read_csv('datavarejista.csv')"
   ]
  },
  {
   "cell_type": "code",
   "execution_count": 261,
   "metadata": {},
   "outputs": [],
   "source": [
    "lst = []\n",
    "for row in varejista['indice'].tolist():\n",
    "    lst.append('varejista_' + str(row))"
   ]
  },
  {
   "cell_type": "code",
   "execution_count": 262,
   "metadata": {},
   "outputs": [
    {
     "data": {
      "text/html": [
       "<div>\n",
       "<style scoped>\n",
       "    .dataframe tbody tr th:only-of-type {\n",
       "        vertical-align: middle;\n",
       "    }\n",
       "\n",
       "    .dataframe tbody tr th {\n",
       "        vertical-align: top;\n",
       "    }\n",
       "\n",
       "    .dataframe thead th {\n",
       "        text-align: right;\n",
       "    }\n",
       "</style>\n",
       "<table border=\"1\" class=\"dataframe\">\n",
       "  <thead>\n",
       "    <tr style=\"text-align: right;\">\n",
       "      <th></th>\n",
       "      <th>indice</th>\n",
       "      <th>segmento</th>\n",
       "      <th>quantidade_minima_domicilios</th>\n",
       "      <th>potencial_consumo_min</th>\n",
       "      <th>tamanho_loja_min</th>\n",
       "      <th>tamanho_loja_max</th>\n",
       "      <th>tamanho_min_frente</th>\n",
       "      <th>corredor</th>\n",
       "      <th>fluxo_minimo_pessoas_min</th>\n",
       "    </tr>\n",
       "  </thead>\n",
       "  <tbody>\n",
       "    <tr>\n",
       "      <th>0</th>\n",
       "      <td>varejista_1</td>\n",
       "      <td>7</td>\n",
       "      <td>8086</td>\n",
       "      <td>765</td>\n",
       "      <td>33</td>\n",
       "      <td>41</td>\n",
       "      <td>3.9</td>\n",
       "      <td>4</td>\n",
       "      <td>5</td>\n",
       "    </tr>\n",
       "    <tr>\n",
       "      <th>1</th>\n",
       "      <td>varejista_2</td>\n",
       "      <td>2</td>\n",
       "      <td>7945</td>\n",
       "      <td>767</td>\n",
       "      <td>26</td>\n",
       "      <td>48</td>\n",
       "      <td>4.0</td>\n",
       "      <td>1</td>\n",
       "      <td>5</td>\n",
       "    </tr>\n",
       "    <tr>\n",
       "      <th>2</th>\n",
       "      <td>varejista_3</td>\n",
       "      <td>3</td>\n",
       "      <td>8159</td>\n",
       "      <td>758</td>\n",
       "      <td>31</td>\n",
       "      <td>41</td>\n",
       "      <td>4.2</td>\n",
       "      <td>5</td>\n",
       "      <td>6</td>\n",
       "    </tr>\n",
       "    <tr>\n",
       "      <th>3</th>\n",
       "      <td>varejista_4</td>\n",
       "      <td>7</td>\n",
       "      <td>8228</td>\n",
       "      <td>787</td>\n",
       "      <td>33</td>\n",
       "      <td>47</td>\n",
       "      <td>3.8</td>\n",
       "      <td>2</td>\n",
       "      <td>5</td>\n",
       "    </tr>\n",
       "    <tr>\n",
       "      <th>4</th>\n",
       "      <td>varejista_5</td>\n",
       "      <td>1</td>\n",
       "      <td>7859</td>\n",
       "      <td>766</td>\n",
       "      <td>31</td>\n",
       "      <td>45</td>\n",
       "      <td>4.2</td>\n",
       "      <td>2</td>\n",
       "      <td>4</td>\n",
       "    </tr>\n",
       "  </tbody>\n",
       "</table>\n",
       "</div>"
      ],
      "text/plain": [
       "        indice  segmento  quantidade_minima_domicilios  potencial_consumo_min  \\\n",
       "0  varejista_1         7                          8086                    765   \n",
       "1  varejista_2         2                          7945                    767   \n",
       "2  varejista_3         3                          8159                    758   \n",
       "3  varejista_4         7                          8228                    787   \n",
       "4  varejista_5         1                          7859                    766   \n",
       "\n",
       "   tamanho_loja_min  tamanho_loja_max  tamanho_min_frente  corredor  \\\n",
       "0                33                41                 3.9         4   \n",
       "1                26                48                 4.0         1   \n",
       "2                31                41                 4.2         5   \n",
       "3                33                47                 3.8         2   \n",
       "4                31                45                 4.2         2   \n",
       "\n",
       "   fluxo_minimo_pessoas_min  \n",
       "0                         5  \n",
       "1                         5  \n",
       "2                         6  \n",
       "3                         5  \n",
       "4                         4  "
      ]
     },
     "execution_count": 262,
     "metadata": {},
     "output_type": "execute_result"
    }
   ],
   "source": [
    "varejista['indice'] = lst\n",
    "varejista.head()"
   ]
  },
  {
   "cell_type": "code",
   "execution_count": 263,
   "metadata": {},
   "outputs": [],
   "source": [
    "varejista['quantidade_minima_domicilios'] = varejista['quantidade_minima_domicilios']/1000"
   ]
  },
  {
   "cell_type": "code",
   "execution_count": 264,
   "metadata": {},
   "outputs": [
    {
     "name": "stdout",
     "output_type": "stream",
     "text": [
      "Features are:\n",
      "- indice\n",
      "- segmento\n",
      "- quantidade_minima_domicilios\n",
      "- potencial_consumo_min\n",
      "- tamanho_loja_min\n",
      "- tamanho_loja_max\n",
      "- tamanho_min_frente\n",
      "- corredor\n",
      "- fluxo_minimo_pessoas_min\n"
     ]
    }
   ],
   "source": [
    "print('Features are:')\n",
    "for col in varejista.columns.tolist():\n",
    "    print('-',col)"
   ]
  },
  {
   "cell_type": "markdown",
   "metadata": {},
   "source": [
    "### Matching dataframe\n",
    "\n",
    "By steps:\n",
    "- The value of `quantidade_minima_domicilios` for `varejista_0` is:"
   ]
  },
  {
   "cell_type": "code",
   "execution_count": 265,
   "metadata": {},
   "outputs": [
    {
     "name": "stdout",
     "output_type": "stream",
     "text": [
      "Quantidade minima de domicilios para o varejista_1 (mil): 8.086\n"
     ]
    }
   ],
   "source": [
    "print('Quantidade minima de domicilios para o {} (mil):'.format(varejista.iloc[0,0]), varejista.iloc[0,2])"
   ]
  },
  {
   "cell_type": "markdown",
   "metadata": {},
   "source": [
    "- Os shopping que satisfazem essa condição são: "
   ]
  },
  {
   "cell_type": "code",
   "execution_count": 266,
   "metadata": {},
   "outputs": [
    {
     "data": {
      "text/plain": [
       "(1000, 6)"
      ]
     },
     "execution_count": 266,
     "metadata": {},
     "output_type": "execute_result"
    }
   ],
   "source": [
    "shopping.shape"
   ]
  },
  {
   "cell_type": "code",
   "execution_count": 268,
   "metadata": {},
   "outputs": [
    {
     "data": {
      "text/html": [
       "<div>\n",
       "<style scoped>\n",
       "    .dataframe tbody tr th:only-of-type {\n",
       "        vertical-align: middle;\n",
       "    }\n",
       "\n",
       "    .dataframe tbody tr th {\n",
       "        vertical-align: top;\n",
       "    }\n",
       "\n",
       "    .dataframe thead th {\n",
       "        text-align: right;\n",
       "    }\n",
       "</style>\n",
       "<table border=\"1\" class=\"dataframe\">\n",
       "  <thead>\n",
       "    <tr style=\"text-align: right;\">\n",
       "      <th></th>\n",
       "      <th>shopping</th>\n",
       "      <th>total_de_lojas</th>\n",
       "      <th>total_ABL_m2</th>\n",
       "      <th>area_influencia_km2</th>\n",
       "      <th>quantidade_domicilios_mil</th>\n",
       "      <th>potencial_de_consumo_milhoes</th>\n",
       "    </tr>\n",
       "  </thead>\n",
       "  <tbody>\n",
       "    <tr>\n",
       "      <th>1</th>\n",
       "      <td>1</td>\n",
       "      <td>540</td>\n",
       "      <td>36750</td>\n",
       "      <td>6</td>\n",
       "      <td>10</td>\n",
       "      <td>986</td>\n",
       "    </tr>\n",
       "    <tr>\n",
       "      <th>3</th>\n",
       "      <td>3</td>\n",
       "      <td>365</td>\n",
       "      <td>16543</td>\n",
       "      <td>4</td>\n",
       "      <td>12</td>\n",
       "      <td>1167</td>\n",
       "    </tr>\n",
       "    <tr>\n",
       "      <th>4</th>\n",
       "      <td>4</td>\n",
       "      <td>319</td>\n",
       "      <td>30950</td>\n",
       "      <td>3</td>\n",
       "      <td>10</td>\n",
       "      <td>616</td>\n",
       "    </tr>\n",
       "    <tr>\n",
       "      <th>6</th>\n",
       "      <td>6</td>\n",
       "      <td>196</td>\n",
       "      <td>26778</td>\n",
       "      <td>4</td>\n",
       "      <td>10</td>\n",
       "      <td>1273</td>\n",
       "    </tr>\n",
       "    <tr>\n",
       "      <th>7</th>\n",
       "      <td>7</td>\n",
       "      <td>429</td>\n",
       "      <td>27709</td>\n",
       "      <td>2</td>\n",
       "      <td>10</td>\n",
       "      <td>942</td>\n",
       "    </tr>\n",
       "  </tbody>\n",
       "</table>\n",
       "</div>"
      ],
      "text/plain": [
       "   shopping  total_de_lojas  total_ABL_m2  area_influencia_km2  \\\n",
       "1         1             540         36750                    6   \n",
       "3         3             365         16543                    4   \n",
       "4         4             319         30950                    3   \n",
       "6         6             196         26778                    4   \n",
       "7         7             429         27709                    2   \n",
       "\n",
       "   quantidade_domicilios_mil  potencial_de_consumo_milhoes  \n",
       "1                         10                           986  \n",
       "3                         12                          1167  \n",
       "4                         10                           616  \n",
       "6                         10                          1273  \n",
       "7                         10                           942  "
      ]
     },
     "execution_count": 268,
     "metadata": {},
     "output_type": "execute_result"
    }
   ],
   "source": [
    "shopping_varejista_1 = shopping[shopping['quantidade_domicilios_mil'] >= varejista.iloc[0,2]]\n",
    "shopping_varejista_1.head()"
   ]
  },
  {
   "cell_type": "markdown",
   "metadata": {},
   "source": [
    "- The value of `potencial_consumo_min` for `varejista_1` is:"
   ]
  },
  {
   "cell_type": "code",
   "execution_count": 269,
   "metadata": {},
   "outputs": [
    {
     "name": "stdout",
     "output_type": "stream",
     "text": [
      "Potencial minimo de consumo para o varejista_1: 765\n"
     ]
    }
   ],
   "source": [
    "print('Potencial minimo de consumo para o {}:'.format(varejista.iloc[0,0]), varejista.iloc[0,3])"
   ]
  },
  {
   "cell_type": "markdown",
   "metadata": {},
   "source": [
    "Restringindo ainda mais a lista de shoppings:"
   ]
  },
  {
   "cell_type": "code",
   "execution_count": 270,
   "metadata": {},
   "outputs": [
    {
     "data": {
      "text/html": [
       "<div>\n",
       "<style scoped>\n",
       "    .dataframe tbody tr th:only-of-type {\n",
       "        vertical-align: middle;\n",
       "    }\n",
       "\n",
       "    .dataframe tbody tr th {\n",
       "        vertical-align: top;\n",
       "    }\n",
       "\n",
       "    .dataframe thead th {\n",
       "        text-align: right;\n",
       "    }\n",
       "</style>\n",
       "<table border=\"1\" class=\"dataframe\">\n",
       "  <thead>\n",
       "    <tr style=\"text-align: right;\">\n",
       "      <th></th>\n",
       "      <th>shopping</th>\n",
       "      <th>total_de_lojas</th>\n",
       "      <th>total_ABL_m2</th>\n",
       "      <th>area_influencia_km2</th>\n",
       "      <th>quantidade_domicilios_mil</th>\n",
       "      <th>potencial_de_consumo_milhoes</th>\n",
       "    </tr>\n",
       "  </thead>\n",
       "  <tbody>\n",
       "    <tr>\n",
       "      <th>1</th>\n",
       "      <td>1</td>\n",
       "      <td>540</td>\n",
       "      <td>36750</td>\n",
       "      <td>6</td>\n",
       "      <td>10</td>\n",
       "      <td>986</td>\n",
       "    </tr>\n",
       "    <tr>\n",
       "      <th>3</th>\n",
       "      <td>3</td>\n",
       "      <td>365</td>\n",
       "      <td>16543</td>\n",
       "      <td>4</td>\n",
       "      <td>12</td>\n",
       "      <td>1167</td>\n",
       "    </tr>\n",
       "    <tr>\n",
       "      <th>6</th>\n",
       "      <td>6</td>\n",
       "      <td>196</td>\n",
       "      <td>26778</td>\n",
       "      <td>4</td>\n",
       "      <td>10</td>\n",
       "      <td>1273</td>\n",
       "    </tr>\n",
       "    <tr>\n",
       "      <th>7</th>\n",
       "      <td>7</td>\n",
       "      <td>429</td>\n",
       "      <td>27709</td>\n",
       "      <td>2</td>\n",
       "      <td>10</td>\n",
       "      <td>942</td>\n",
       "    </tr>\n",
       "    <tr>\n",
       "      <th>8</th>\n",
       "      <td>8</td>\n",
       "      <td>417</td>\n",
       "      <td>29689</td>\n",
       "      <td>6</td>\n",
       "      <td>9</td>\n",
       "      <td>1249</td>\n",
       "    </tr>\n",
       "  </tbody>\n",
       "</table>\n",
       "</div>"
      ],
      "text/plain": [
       "   shopping  total_de_lojas  total_ABL_m2  area_influencia_km2  \\\n",
       "1         1             540         36750                    6   \n",
       "3         3             365         16543                    4   \n",
       "6         6             196         26778                    4   \n",
       "7         7             429         27709                    2   \n",
       "8         8             417         29689                    6   \n",
       "\n",
       "   quantidade_domicilios_mil  potencial_de_consumo_milhoes  \n",
       "1                         10                           986  \n",
       "3                         12                          1167  \n",
       "6                         10                          1273  \n",
       "7                         10                           942  \n",
       "8                          9                          1249  "
      ]
     },
     "execution_count": 270,
     "metadata": {},
     "output_type": "execute_result"
    }
   ],
   "source": [
    "shopping_varejista_1 = shopping_varejista_1[shopping_varejista_1['potencial_de_consumo_milhoes'] >=765]\n",
    "shopping_varejista_1.head()"
   ]
  },
  {
   "cell_type": "markdown",
   "metadata": {},
   "source": [
    "Outras restrições:"
   ]
  },
  {
   "cell_type": "code",
   "execution_count": 271,
   "metadata": {},
   "outputs": [
    {
     "name": "stdout",
     "output_type": "stream",
     "text": [
      "Tamanho minimo de loja varejista_1: 33\n",
      "Tamanho maximo de loja varejista_1: 41\n"
     ]
    }
   ],
   "source": [
    "print('Tamanho minimo de loja {}:'.format(varejista.iloc[0,0]), varejista.iloc[0,4])\n",
    "print('Tamanho maximo de loja {}:'.format(varejista.iloc[0,0]), varejista.iloc[0,5])"
   ]
  },
  {
   "cell_type": "markdown",
   "metadata": {},
   "source": [
    "Na tabela `shopping_varejista_1` nao existe informação sobre `loja_shopping_0`. Para continuar, precisamos da planilha `loja_shopping` para todos os shoppings em `shopping_varejista_1`."
   ]
  },
  {
   "cell_type": "code",
   "execution_count": 281,
   "metadata": {},
   "outputs": [
    {
     "name": "stdout",
     "output_type": "stream",
     "text": [
      "Alguns dos shoppings: [1, 3, 6, 7, 8]\n"
     ]
    }
   ],
   "source": [
    "print('Alguns dos shoppings:',list(shopping_varejista_1['shopping'])[0:5])"
   ]
  },
  {
   "cell_type": "markdown",
   "metadata": {},
   "source": [
    "Dentro do shopping correspondendo à lista de loja que temos, quais lojas obedecem as condições:"
   ]
  },
  {
   "cell_type": "code",
   "execution_count": 285,
   "metadata": {},
   "outputs": [
    {
     "data": {
      "text/html": [
       "<div>\n",
       "<style scoped>\n",
       "    .dataframe tbody tr th:only-of-type {\n",
       "        vertical-align: middle;\n",
       "    }\n",
       "\n",
       "    .dataframe tbody tr th {\n",
       "        vertical-align: top;\n",
       "    }\n",
       "\n",
       "    .dataframe thead th {\n",
       "        text-align: right;\n",
       "    }\n",
       "</style>\n",
       "<table border=\"1\" class=\"dataframe\">\n",
       "  <thead>\n",
       "    <tr style=\"text-align: right;\">\n",
       "      <th></th>\n",
       "      <th>tamanho_da_loja</th>\n",
       "      <th>tamanho_da_frente_m</th>\n",
       "      <th>corredor</th>\n",
       "      <th>fluxo_de_pessoas_corredor_minuto</th>\n",
       "      <th>shopping</th>\n",
       "      <th>total_de_lojas</th>\n",
       "      <th>total_ABL_m2</th>\n",
       "      <th>area_influencia_km2</th>\n",
       "      <th>quantidade_domicilios_mil</th>\n",
       "      <th>potencial_de_consumo_milhoes</th>\n",
       "    </tr>\n",
       "  </thead>\n",
       "  <tbody>\n",
       "    <tr>\n",
       "      <th>0</th>\n",
       "      <td>41</td>\n",
       "      <td>5</td>\n",
       "      <td>3</td>\n",
       "      <td>24</td>\n",
       "      <td>0</td>\n",
       "      <td>389</td>\n",
       "      <td>15256</td>\n",
       "      <td>7</td>\n",
       "      <td>7</td>\n",
       "      <td>1369</td>\n",
       "    </tr>\n",
       "    <tr>\n",
       "      <th>1</th>\n",
       "      <td>42</td>\n",
       "      <td>5</td>\n",
       "      <td>1</td>\n",
       "      <td>26</td>\n",
       "      <td>0</td>\n",
       "      <td>389</td>\n",
       "      <td>15256</td>\n",
       "      <td>7</td>\n",
       "      <td>7</td>\n",
       "      <td>1369</td>\n",
       "    </tr>\n",
       "    <tr>\n",
       "      <th>2</th>\n",
       "      <td>29</td>\n",
       "      <td>5</td>\n",
       "      <td>2</td>\n",
       "      <td>20</td>\n",
       "      <td>0</td>\n",
       "      <td>389</td>\n",
       "      <td>15256</td>\n",
       "      <td>7</td>\n",
       "      <td>7</td>\n",
       "      <td>1369</td>\n",
       "    </tr>\n",
       "    <tr>\n",
       "      <th>3</th>\n",
       "      <td>33</td>\n",
       "      <td>3</td>\n",
       "      <td>4</td>\n",
       "      <td>26</td>\n",
       "      <td>0</td>\n",
       "      <td>389</td>\n",
       "      <td>15256</td>\n",
       "      <td>7</td>\n",
       "      <td>7</td>\n",
       "      <td>1369</td>\n",
       "    </tr>\n",
       "    <tr>\n",
       "      <th>4</th>\n",
       "      <td>29</td>\n",
       "      <td>2</td>\n",
       "      <td>4</td>\n",
       "      <td>20</td>\n",
       "      <td>0</td>\n",
       "      <td>389</td>\n",
       "      <td>15256</td>\n",
       "      <td>7</td>\n",
       "      <td>7</td>\n",
       "      <td>1369</td>\n",
       "    </tr>\n",
       "  </tbody>\n",
       "</table>\n",
       "</div>"
      ],
      "text/plain": [
       "   tamanho_da_loja  tamanho_da_frente_m  corredor  \\\n",
       "0               41                    5         3   \n",
       "1               42                    5         1   \n",
       "2               29                    5         2   \n",
       "3               33                    3         4   \n",
       "4               29                    2         4   \n",
       "\n",
       "   fluxo_de_pessoas_corredor_minuto  shopping  total_de_lojas  total_ABL_m2  \\\n",
       "0                                24         0             389         15256   \n",
       "1                                26         0             389         15256   \n",
       "2                                20         0             389         15256   \n",
       "3                                26         0             389         15256   \n",
       "4                                20         0             389         15256   \n",
       "\n",
       "   area_influencia_km2  quantidade_domicilios_mil  \\\n",
       "0                    7                          7   \n",
       "1                    7                          7   \n",
       "2                    7                          7   \n",
       "3                    7                          7   \n",
       "4                    7                          7   \n",
       "\n",
       "   potencial_de_consumo_milhoes  \n",
       "0                          1369  \n",
       "1                          1369  \n",
       "2                          1369  \n",
       "3                          1369  \n",
       "4                          1369  "
      ]
     },
     "execution_count": 285,
     "metadata": {},
     "output_type": "execute_result"
    }
   ],
   "source": [
    "loja_shopping_0.head()"
   ]
  },
  {
   "cell_type": "code",
   "execution_count": 286,
   "metadata": {},
   "outputs": [
    {
     "data": {
      "text/plain": [
       "33"
      ]
     },
     "execution_count": 286,
     "metadata": {},
     "output_type": "execute_result"
    }
   ],
   "source": [
    "varejista.iloc[0,4]"
   ]
  },
  {
   "cell_type": "code",
   "execution_count": 287,
   "metadata": {},
   "outputs": [
    {
     "data": {
      "text/html": [
       "<div>\n",
       "<style scoped>\n",
       "    .dataframe tbody tr th:only-of-type {\n",
       "        vertical-align: middle;\n",
       "    }\n",
       "\n",
       "    .dataframe tbody tr th {\n",
       "        vertical-align: top;\n",
       "    }\n",
       "\n",
       "    .dataframe thead th {\n",
       "        text-align: right;\n",
       "    }\n",
       "</style>\n",
       "<table border=\"1\" class=\"dataframe\">\n",
       "  <thead>\n",
       "    <tr style=\"text-align: right;\">\n",
       "      <th></th>\n",
       "      <th>tamanho_da_loja</th>\n",
       "      <th>tamanho_da_frente_m</th>\n",
       "      <th>corredor</th>\n",
       "      <th>fluxo_de_pessoas_corredor_minuto</th>\n",
       "      <th>shopping</th>\n",
       "      <th>total_de_lojas</th>\n",
       "      <th>total_ABL_m2</th>\n",
       "      <th>area_influencia_km2</th>\n",
       "      <th>quantidade_domicilios_mil</th>\n",
       "      <th>potencial_de_consumo_milhoes</th>\n",
       "    </tr>\n",
       "  </thead>\n",
       "  <tbody>\n",
       "    <tr>\n",
       "      <th>0</th>\n",
       "      <td>41</td>\n",
       "      <td>5</td>\n",
       "      <td>3</td>\n",
       "      <td>24</td>\n",
       "      <td>0</td>\n",
       "      <td>389</td>\n",
       "      <td>15256</td>\n",
       "      <td>7</td>\n",
       "      <td>7</td>\n",
       "      <td>1369</td>\n",
       "    </tr>\n",
       "    <tr>\n",
       "      <th>1</th>\n",
       "      <td>42</td>\n",
       "      <td>5</td>\n",
       "      <td>1</td>\n",
       "      <td>26</td>\n",
       "      <td>0</td>\n",
       "      <td>389</td>\n",
       "      <td>15256</td>\n",
       "      <td>7</td>\n",
       "      <td>7</td>\n",
       "      <td>1369</td>\n",
       "    </tr>\n",
       "    <tr>\n",
       "      <th>3</th>\n",
       "      <td>33</td>\n",
       "      <td>3</td>\n",
       "      <td>4</td>\n",
       "      <td>26</td>\n",
       "      <td>0</td>\n",
       "      <td>389</td>\n",
       "      <td>15256</td>\n",
       "      <td>7</td>\n",
       "      <td>7</td>\n",
       "      <td>1369</td>\n",
       "    </tr>\n",
       "    <tr>\n",
       "      <th>5</th>\n",
       "      <td>45</td>\n",
       "      <td>4</td>\n",
       "      <td>3</td>\n",
       "      <td>12</td>\n",
       "      <td>0</td>\n",
       "      <td>389</td>\n",
       "      <td>15256</td>\n",
       "      <td>7</td>\n",
       "      <td>7</td>\n",
       "      <td>1369</td>\n",
       "    </tr>\n",
       "    <tr>\n",
       "      <th>7</th>\n",
       "      <td>40</td>\n",
       "      <td>4</td>\n",
       "      <td>1</td>\n",
       "      <td>18</td>\n",
       "      <td>0</td>\n",
       "      <td>389</td>\n",
       "      <td>15256</td>\n",
       "      <td>7</td>\n",
       "      <td>7</td>\n",
       "      <td>1369</td>\n",
       "    </tr>\n",
       "  </tbody>\n",
       "</table>\n",
       "</div>"
      ],
      "text/plain": [
       "   tamanho_da_loja  tamanho_da_frente_m  corredor  \\\n",
       "0               41                    5         3   \n",
       "1               42                    5         1   \n",
       "3               33                    3         4   \n",
       "5               45                    4         3   \n",
       "7               40                    4         1   \n",
       "\n",
       "   fluxo_de_pessoas_corredor_minuto  shopping  total_de_lojas  total_ABL_m2  \\\n",
       "0                                24         0             389         15256   \n",
       "1                                26         0             389         15256   \n",
       "3                                26         0             389         15256   \n",
       "5                                12         0             389         15256   \n",
       "7                                18         0             389         15256   \n",
       "\n",
       "   area_influencia_km2  quantidade_domicilios_mil  \\\n",
       "0                    7                          7   \n",
       "1                    7                          7   \n",
       "3                    7                          7   \n",
       "5                    7                          7   \n",
       "7                    7                          7   \n",
       "\n",
       "   potencial_de_consumo_milhoes  \n",
       "0                          1369  \n",
       "1                          1369  \n",
       "3                          1369  \n",
       "5                          1369  \n",
       "7                          1369  "
      ]
     },
     "execution_count": 287,
     "metadata": {},
     "output_type": "execute_result"
    }
   ],
   "source": [
    "loja_shopping_0_varejista_1 = loja_shopping_0[loja_shopping_0['tamanho_da_loja'] >= varejista.iloc[0,4]]\n",
    "loja_shopping_0_varejista_1.head()"
   ]
  },
  {
   "cell_type": "code",
   "execution_count": 288,
   "metadata": {},
   "outputs": [
    {
     "data": {
      "text/html": [
       "<div>\n",
       "<style scoped>\n",
       "    .dataframe tbody tr th:only-of-type {\n",
       "        vertical-align: middle;\n",
       "    }\n",
       "\n",
       "    .dataframe tbody tr th {\n",
       "        vertical-align: top;\n",
       "    }\n",
       "\n",
       "    .dataframe thead th {\n",
       "        text-align: right;\n",
       "    }\n",
       "</style>\n",
       "<table border=\"1\" class=\"dataframe\">\n",
       "  <thead>\n",
       "    <tr style=\"text-align: right;\">\n",
       "      <th></th>\n",
       "      <th>tamanho_da_loja</th>\n",
       "      <th>tamanho_da_frente_m</th>\n",
       "      <th>corredor</th>\n",
       "      <th>fluxo_de_pessoas_corredor_minuto</th>\n",
       "      <th>shopping</th>\n",
       "      <th>total_de_lojas</th>\n",
       "      <th>total_ABL_m2</th>\n",
       "      <th>area_influencia_km2</th>\n",
       "      <th>quantidade_domicilios_mil</th>\n",
       "      <th>potencial_de_consumo_milhoes</th>\n",
       "    </tr>\n",
       "  </thead>\n",
       "  <tbody>\n",
       "    <tr>\n",
       "      <th>0</th>\n",
       "      <td>41</td>\n",
       "      <td>5</td>\n",
       "      <td>3</td>\n",
       "      <td>24</td>\n",
       "      <td>0</td>\n",
       "      <td>389</td>\n",
       "      <td>15256</td>\n",
       "      <td>7</td>\n",
       "      <td>7</td>\n",
       "      <td>1369</td>\n",
       "    </tr>\n",
       "    <tr>\n",
       "      <th>3</th>\n",
       "      <td>33</td>\n",
       "      <td>3</td>\n",
       "      <td>4</td>\n",
       "      <td>26</td>\n",
       "      <td>0</td>\n",
       "      <td>389</td>\n",
       "      <td>15256</td>\n",
       "      <td>7</td>\n",
       "      <td>7</td>\n",
       "      <td>1369</td>\n",
       "    </tr>\n",
       "    <tr>\n",
       "      <th>7</th>\n",
       "      <td>40</td>\n",
       "      <td>4</td>\n",
       "      <td>1</td>\n",
       "      <td>18</td>\n",
       "      <td>0</td>\n",
       "      <td>389</td>\n",
       "      <td>15256</td>\n",
       "      <td>7</td>\n",
       "      <td>7</td>\n",
       "      <td>1369</td>\n",
       "    </tr>\n",
       "    <tr>\n",
       "      <th>8</th>\n",
       "      <td>35</td>\n",
       "      <td>2</td>\n",
       "      <td>2</td>\n",
       "      <td>20</td>\n",
       "      <td>0</td>\n",
       "      <td>389</td>\n",
       "      <td>15256</td>\n",
       "      <td>7</td>\n",
       "      <td>7</td>\n",
       "      <td>1369</td>\n",
       "    </tr>\n",
       "    <tr>\n",
       "      <th>10</th>\n",
       "      <td>35</td>\n",
       "      <td>2</td>\n",
       "      <td>2</td>\n",
       "      <td>13</td>\n",
       "      <td>0</td>\n",
       "      <td>389</td>\n",
       "      <td>15256</td>\n",
       "      <td>7</td>\n",
       "      <td>7</td>\n",
       "      <td>1369</td>\n",
       "    </tr>\n",
       "  </tbody>\n",
       "</table>\n",
       "</div>"
      ],
      "text/plain": [
       "    tamanho_da_loja  tamanho_da_frente_m  corredor  \\\n",
       "0                41                    5         3   \n",
       "3                33                    3         4   \n",
       "7                40                    4         1   \n",
       "8                35                    2         2   \n",
       "10               35                    2         2   \n",
       "\n",
       "    fluxo_de_pessoas_corredor_minuto  shopping  total_de_lojas  total_ABL_m2  \\\n",
       "0                                 24         0             389         15256   \n",
       "3                                 26         0             389         15256   \n",
       "7                                 18         0             389         15256   \n",
       "8                                 20         0             389         15256   \n",
       "10                                13         0             389         15256   \n",
       "\n",
       "    area_influencia_km2  quantidade_domicilios_mil  \\\n",
       "0                     7                          7   \n",
       "3                     7                          7   \n",
       "7                     7                          7   \n",
       "8                     7                          7   \n",
       "10                    7                          7   \n",
       "\n",
       "    potencial_de_consumo_milhoes  \n",
       "0                           1369  \n",
       "3                           1369  \n",
       "7                           1369  \n",
       "8                           1369  \n",
       "10                          1369  "
      ]
     },
     "execution_count": 288,
     "metadata": {},
     "output_type": "execute_result"
    }
   ],
   "source": [
    "loja_shopping_0_varejista_1 = loja_shopping_0_varejista_1[loja_shopping_0_varejista_1['tamanho_da_loja'] <=varejista.iloc[0,5]]\n",
    "loja_shopping_0_varejista_1.head()"
   ]
  },
  {
   "cell_type": "code",
   "execution_count": 289,
   "metadata": {},
   "outputs": [
    {
     "data": {
      "text/html": [
       "<div>\n",
       "<style scoped>\n",
       "    .dataframe tbody tr th:only-of-type {\n",
       "        vertical-align: middle;\n",
       "    }\n",
       "\n",
       "    .dataframe tbody tr th {\n",
       "        vertical-align: top;\n",
       "    }\n",
       "\n",
       "    .dataframe thead th {\n",
       "        text-align: right;\n",
       "    }\n",
       "</style>\n",
       "<table border=\"1\" class=\"dataframe\">\n",
       "  <thead>\n",
       "    <tr style=\"text-align: right;\">\n",
       "      <th></th>\n",
       "      <th>tamanho_da_loja</th>\n",
       "      <th>tamanho_da_frente_m</th>\n",
       "      <th>corredor</th>\n",
       "      <th>fluxo_de_pessoas_corredor_minuto</th>\n",
       "      <th>shopping</th>\n",
       "      <th>total_de_lojas</th>\n",
       "      <th>total_ABL_m2</th>\n",
       "      <th>area_influencia_km2</th>\n",
       "      <th>quantidade_domicilios_mil</th>\n",
       "      <th>potencial_de_consumo_milhoes</th>\n",
       "    </tr>\n",
       "  </thead>\n",
       "  <tbody>\n",
       "    <tr>\n",
       "      <th>0</th>\n",
       "      <td>41</td>\n",
       "      <td>5</td>\n",
       "      <td>3</td>\n",
       "      <td>24</td>\n",
       "      <td>0</td>\n",
       "      <td>389</td>\n",
       "      <td>15256</td>\n",
       "      <td>7</td>\n",
       "      <td>7</td>\n",
       "      <td>1369</td>\n",
       "    </tr>\n",
       "    <tr>\n",
       "      <th>1</th>\n",
       "      <td>42</td>\n",
       "      <td>5</td>\n",
       "      <td>1</td>\n",
       "      <td>26</td>\n",
       "      <td>0</td>\n",
       "      <td>389</td>\n",
       "      <td>15256</td>\n",
       "      <td>7</td>\n",
       "      <td>7</td>\n",
       "      <td>1369</td>\n",
       "    </tr>\n",
       "    <tr>\n",
       "      <th>2</th>\n",
       "      <td>29</td>\n",
       "      <td>5</td>\n",
       "      <td>2</td>\n",
       "      <td>20</td>\n",
       "      <td>0</td>\n",
       "      <td>389</td>\n",
       "      <td>15256</td>\n",
       "      <td>7</td>\n",
       "      <td>7</td>\n",
       "      <td>1369</td>\n",
       "    </tr>\n",
       "    <tr>\n",
       "      <th>3</th>\n",
       "      <td>33</td>\n",
       "      <td>3</td>\n",
       "      <td>4</td>\n",
       "      <td>26</td>\n",
       "      <td>0</td>\n",
       "      <td>389</td>\n",
       "      <td>15256</td>\n",
       "      <td>7</td>\n",
       "      <td>7</td>\n",
       "      <td>1369</td>\n",
       "    </tr>\n",
       "    <tr>\n",
       "      <th>4</th>\n",
       "      <td>29</td>\n",
       "      <td>2</td>\n",
       "      <td>4</td>\n",
       "      <td>20</td>\n",
       "      <td>0</td>\n",
       "      <td>389</td>\n",
       "      <td>15256</td>\n",
       "      <td>7</td>\n",
       "      <td>7</td>\n",
       "      <td>1369</td>\n",
       "    </tr>\n",
       "  </tbody>\n",
       "</table>\n",
       "</div>"
      ],
      "text/plain": [
       "   tamanho_da_loja  tamanho_da_frente_m  corredor  \\\n",
       "0               41                    5         3   \n",
       "1               42                    5         1   \n",
       "2               29                    5         2   \n",
       "3               33                    3         4   \n",
       "4               29                    2         4   \n",
       "\n",
       "   fluxo_de_pessoas_corredor_minuto  shopping  total_de_lojas  total_ABL_m2  \\\n",
       "0                                24         0             389         15256   \n",
       "1                                26         0             389         15256   \n",
       "2                                20         0             389         15256   \n",
       "3                                26         0             389         15256   \n",
       "4                                20         0             389         15256   \n",
       "\n",
       "   area_influencia_km2  quantidade_domicilios_mil  \\\n",
       "0                    7                          7   \n",
       "1                    7                          7   \n",
       "2                    7                          7   \n",
       "3                    7                          7   \n",
       "4                    7                          7   \n",
       "\n",
       "   potencial_de_consumo_milhoes  \n",
       "0                          1369  \n",
       "1                          1369  \n",
       "2                          1369  \n",
       "3                          1369  \n",
       "4                          1369  "
      ]
     },
     "execution_count": 289,
     "metadata": {},
     "output_type": "execute_result"
    },
    {
     "data": {
      "text/html": [
       "<div>\n",
       "<style scoped>\n",
       "    .dataframe tbody tr th:only-of-type {\n",
       "        vertical-align: middle;\n",
       "    }\n",
       "\n",
       "    .dataframe tbody tr th {\n",
       "        vertical-align: top;\n",
       "    }\n",
       "\n",
       "    .dataframe thead th {\n",
       "        text-align: right;\n",
       "    }\n",
       "</style>\n",
       "<table border=\"1\" class=\"dataframe\">\n",
       "  <thead>\n",
       "    <tr style=\"text-align: right;\">\n",
       "      <th></th>\n",
       "      <th>segmento</th>\n",
       "      <th>quantidade_minima_domicilios</th>\n",
       "      <th>potencial_consumo_min</th>\n",
       "      <th>tamanho_loja_min</th>\n",
       "      <th>tamanho_loja_max</th>\n",
       "      <th>tamanho_min_frente</th>\n",
       "      <th>corredor</th>\n",
       "      <th>fluxo_minimo_pessoas_min</th>\n",
       "    </tr>\n",
       "  </thead>\n",
       "  <tbody>\n",
       "    <tr>\n",
       "      <th>0</th>\n",
       "      <td>7</td>\n",
       "      <td>8.086</td>\n",
       "      <td>765</td>\n",
       "      <td>33</td>\n",
       "      <td>41</td>\n",
       "      <td>3.9</td>\n",
       "      <td>4</td>\n",
       "      <td>5</td>\n",
       "    </tr>\n",
       "    <tr>\n",
       "      <th>1</th>\n",
       "      <td>2</td>\n",
       "      <td>7.945</td>\n",
       "      <td>767</td>\n",
       "      <td>26</td>\n",
       "      <td>48</td>\n",
       "      <td>4.0</td>\n",
       "      <td>1</td>\n",
       "      <td>5</td>\n",
       "    </tr>\n",
       "    <tr>\n",
       "      <th>2</th>\n",
       "      <td>3</td>\n",
       "      <td>8.159</td>\n",
       "      <td>758</td>\n",
       "      <td>31</td>\n",
       "      <td>41</td>\n",
       "      <td>4.2</td>\n",
       "      <td>5</td>\n",
       "      <td>6</td>\n",
       "    </tr>\n",
       "    <tr>\n",
       "      <th>3</th>\n",
       "      <td>7</td>\n",
       "      <td>8.228</td>\n",
       "      <td>787</td>\n",
       "      <td>33</td>\n",
       "      <td>47</td>\n",
       "      <td>3.8</td>\n",
       "      <td>2</td>\n",
       "      <td>5</td>\n",
       "    </tr>\n",
       "    <tr>\n",
       "      <th>4</th>\n",
       "      <td>1</td>\n",
       "      <td>7.859</td>\n",
       "      <td>766</td>\n",
       "      <td>31</td>\n",
       "      <td>45</td>\n",
       "      <td>4.2</td>\n",
       "      <td>2</td>\n",
       "      <td>4</td>\n",
       "    </tr>\n",
       "  </tbody>\n",
       "</table>\n",
       "</div>"
      ],
      "text/plain": [
       "   segmento  quantidade_minima_domicilios  potencial_consumo_min  \\\n",
       "0         7                         8.086                    765   \n",
       "1         2                         7.945                    767   \n",
       "2         3                         8.159                    758   \n",
       "3         7                         8.228                    787   \n",
       "4         1                         7.859                    766   \n",
       "\n",
       "   tamanho_loja_min  tamanho_loja_max  tamanho_min_frente  corredor  \\\n",
       "0                33                41                 3.9         4   \n",
       "1                26                48                 4.0         1   \n",
       "2                31                41                 4.2         5   \n",
       "3                33                47                 3.8         2   \n",
       "4                31                45                 4.2         2   \n",
       "\n",
       "   fluxo_minimo_pessoas_min  \n",
       "0                         5  \n",
       "1                         5  \n",
       "2                         6  \n",
       "3                         5  \n",
       "4                         4  "
      ]
     },
     "execution_count": 289,
     "metadata": {},
     "output_type": "execute_result"
    }
   ],
   "source": [
    "loja_shopping_0.head()\n",
    "varejista.iloc[:,1:9].head()"
   ]
  },
  {
   "cell_type": "markdown",
   "metadata": {
    "extensions": {
     "jupyter_dashboards": {
      "version": 1,
      "views": {
       "grid_default": {
        "col": 0,
        "height": 4,
        "hidden": false,
        "row": 55,
        "width": 4
       },
       "report_default": {}
      }
     }
    },
    "slideshow": {
     "slide_type": "slide"
    }
   },
   "source": [
    "## K-Means clustering\n",
    "[[go back to the top]](#Table-of-contents)"
   ]
  },
  {
   "cell_type": "code",
   "execution_count": 65,
   "metadata": {
    "extensions": {
     "jupyter_dashboards": {
      "version": 1,
      "views": {
       "grid_default": {
        "col": 0,
        "height": 4,
        "hidden": false,
        "row": 55,
        "width": 4
       },
       "report_default": {}
      }
     }
    },
    "slideshow": {
     "slide_type": "slide"
    }
   },
   "outputs": [
    {
     "name": "stdout",
     "output_type": "stream",
     "text": [
      "Features are:\n",
      "- total_de_lojas\n",
      "- total_ABL_m2\n",
      "- area_influencia_km2\n",
      "- quantidade_domicilios_mil\n",
      "- potencial_de_consumo_milhoes\n"
     ]
    }
   ],
   "source": [
    "print('Features are:')\n",
    "for col in shopping.columns.tolist()[1:]:\n",
    "    print('-',col)"
   ]
  },
  {
   "cell_type": "markdown",
   "metadata": {
    "extensions": {
     "jupyter_dashboards": {
      "version": 1,
      "views": {
       "grid_default": {
        "col": 0,
        "height": 5,
        "hidden": false,
        "row": 59,
        "width": 12
       },
       "report_default": {}
      }
     }
    },
    "slideshow": {
     "slide_type": "slide"
    }
   },
   "source": [
    "###  Examine pairs of features \n",
    "\n",
    "- Plot them to see if there are obvious patters\n",
    "- Initialize the instance `KMeans` \n",
    "- Try to fit our sub-dataframe using the `fit` method"
   ]
  },
  {
   "cell_type": "code",
   "execution_count": 106,
   "metadata": {},
   "outputs": [
    {
     "data": {
      "text/plain": [
       "['total_de_lojas',\n",
       " 'total_ABL_m2',\n",
       " 'area_influencia_km2',\n",
       " 'quantidade_domicilios_mil',\n",
       " 'potencial_de_consumo_milhoes']"
      ]
     },
     "execution_count": 106,
     "metadata": {},
     "output_type": "execute_result"
    }
   ],
   "source": [
    "shopping.columns.tolist()[1:]"
   ]
  },
  {
   "cell_type": "code",
   "execution_count": 66,
   "metadata": {
    "extensions": {
     "jupyter_dashboards": {
      "version": 1,
      "views": {
       "grid_default": {
        "hidden": true
       },
       "report_default": {}
      }
     }
    }
   },
   "outputs": [
    {
     "name": "stdout",
     "output_type": "stream",
     "text": [
      "Pairs:\n",
      "\n",
      "['total_de_lojas', 'total_ABL_m2'] \n",
      "\n",
      "['total_de_lojas', 'area_influencia_km2'] \n",
      "\n",
      "['total_de_lojas', 'quantidade_domicilios_mil'] \n",
      "\n",
      "['total_de_lojas', 'potencial_de_consumo_milhoes'] \n",
      "\n",
      "['total_ABL_m2', 'area_influencia_km2'] \n",
      "\n",
      "['total_ABL_m2', 'quantidade_domicilios_mil'] \n",
      "\n",
      "['total_ABL_m2', 'potencial_de_consumo_milhoes'] \n",
      "\n",
      "['area_influencia_km2', 'quantidade_domicilios_mil'] \n",
      "\n",
      "['area_influencia_km2', 'potencial_de_consumo_milhoes'] \n",
      "\n",
      "['quantidade_domicilios_mil', 'potencial_de_consumo_milhoes'] \n",
      "\n"
     ]
    }
   ],
   "source": [
    "n=2\n",
    "cols_to_keep = shopping.columns.tolist()[1:]\n",
    "pairs = pairs_comb(shopping, cols_to_keep, n)\n",
    "print('Pairs:\\n')\n",
    "for col in pairs:\n",
    "    print(col,'\\n')"
   ]
  },
  {
   "cell_type": "code",
   "execution_count": 67,
   "metadata": {
    "extensions": {
     "jupyter_dashboards": {
      "version": 1,
      "views": {
       "grid_default": {
        "hidden": true
       },
       "report_default": {}
      }
     }
    }
   },
   "outputs": [],
   "source": [
    "N = shopping.shape[0]\n",
    "s, c, l = (15*np.random.rand(N))**2, np.random.rand(N), len(pairs)"
   ]
  },
  {
   "cell_type": "markdown",
   "metadata": {
    "extensions": {
     "jupyter_dashboards": {
      "version": 1,
      "views": {
       "grid_default": {
        "col": 4,
        "height": 4,
        "hidden": false,
        "row": 55,
        "width": 4
       },
       "report_default": {}
      }
     }
    }
   },
   "source": [
    "### Sample of scatter plots"
   ]
  },
  {
   "cell_type": "code",
   "execution_count": null,
   "metadata": {
    "extensions": {
     "jupyter_dashboards": {
      "version": 1,
      "views": {
       "grid_default": {
        "hidden": true
       },
       "report_default": {}
      }
     }
    }
   },
   "outputs": [],
   "source": [
    "shopping = shopping[cols_to_keep]\n",
    "\n",
    "fig = plt.figure(figsize=(40, 60));\n",
    "fig.subplots_adjust(hspace=0.4, wspace=0.4);\n",
    "for i in range(1, l+1):\n",
    "    ax = fig.add_subplot(5, 2, i);\n",
    "    x, y = pairs[i-1][0], pairs[i-1][1];\n",
    "    ax.scatter(shopping[x], shopping[y], s=s, c=c, alpha=0.5);\n",
    "    plt.ylabel(y, fontsize=35)\n",
    "    plt.xlabel(x, fontsize=35)\n",
    "fig.savefig('clusters-retail-16.png')"
   ]
  },
  {
   "cell_type": "markdown",
   "metadata": {
    "extensions": {
     "jupyter_dashboards": {
      "version": 1,
      "views": {
       "grid_default": {
        "col": 0,
        "height": 51,
        "hidden": false,
        "row": 64,
        "width": 12
       },
       "report_default": {}
      }
     }
    }
   },
   "source": [
    "![title](clusters-retail-16.png)"
   ]
  },
  {
   "cell_type": "markdown",
   "metadata": {
    "extensions": {
     "jupyter_dashboards": {
      "version": 1,
      "views": {
       "grid_default": {
        "col": 8,
        "height": 4,
        "hidden": false,
        "row": 55,
        "width": 4
       },
       "report_default": {}
      }
     }
    },
    "slideshow": {
     "slide_type": "slide"
    }
   },
   "source": [
    "### Run K-Means"
   ]
  },
  {
   "cell_type": "code",
   "execution_count": 72,
   "metadata": {
    "extensions": {
     "jupyter_dashboards": {
      "version": 1,
      "views": {
       "grid_default": {
        "hidden": true
       },
       "report_default": {}
      }
     }
    },
    "slideshow": {
     "slide_type": "slide"
    }
   },
   "outputs": [
    {
     "data": {
      "text/html": [
       "<div>\n",
       "<style scoped>\n",
       "    .dataframe tbody tr th:only-of-type {\n",
       "        vertical-align: middle;\n",
       "    }\n",
       "\n",
       "    .dataframe tbody tr th {\n",
       "        vertical-align: top;\n",
       "    }\n",
       "\n",
       "    .dataframe thead th {\n",
       "        text-align: right;\n",
       "    }\n",
       "</style>\n",
       "<table border=\"1\" class=\"dataframe\">\n",
       "  <thead>\n",
       "    <tr style=\"text-align: right;\">\n",
       "      <th></th>\n",
       "      <th>total_de_lojas</th>\n",
       "      <th>potencial_de_consumo_milhoes</th>\n",
       "    </tr>\n",
       "  </thead>\n",
       "  <tbody>\n",
       "    <tr>\n",
       "      <th>0</th>\n",
       "      <td>389</td>\n",
       "      <td>1369</td>\n",
       "    </tr>\n",
       "    <tr>\n",
       "      <th>1</th>\n",
       "      <td>540</td>\n",
       "      <td>986</td>\n",
       "    </tr>\n",
       "    <tr>\n",
       "      <th>2</th>\n",
       "      <td>394</td>\n",
       "      <td>1275</td>\n",
       "    </tr>\n",
       "    <tr>\n",
       "      <th>3</th>\n",
       "      <td>365</td>\n",
       "      <td>1167</td>\n",
       "    </tr>\n",
       "    <tr>\n",
       "      <th>4</th>\n",
       "      <td>319</td>\n",
       "      <td>616</td>\n",
       "    </tr>\n",
       "  </tbody>\n",
       "</table>\n",
       "</div>"
      ],
      "text/plain": [
       "   total_de_lojas  potencial_de_consumo_milhoes\n",
       "0             389                          1369\n",
       "1             540                           986\n",
       "2             394                          1275\n",
       "3             365                          1167\n",
       "4             319                           616"
      ]
     },
     "execution_count": 72,
     "metadata": {},
     "output_type": "execute_result"
    }
   ],
   "source": [
    "features = ['total_de_lojas', 'potencial_de_consumo_milhoes'] \n",
    "shopping[features].head()"
   ]
  },
  {
   "cell_type": "code",
   "execution_count": 73,
   "metadata": {
    "extensions": {
     "jupyter_dashboards": {
      "version": 1,
      "views": {
       "grid_default": {
        "hidden": true
       },
       "report_default": {}
      }
     }
    },
    "slideshow": {
     "slide_type": "slide"
    }
   },
   "outputs": [
    {
     "data": {
      "text/plain": [
       "KMeans(algorithm='auto', copy_x=True, init='k-means++', max_iter=1,\n",
       "    n_clusters=5, n_init=10, n_jobs=1, precompute_distances='auto',\n",
       "    random_state=None, tol=0.0001, verbose=0)"
      ]
     },
     "execution_count": 73,
     "metadata": {},
     "output_type": "execute_result"
    }
   ],
   "source": [
    "k = 5\n",
    "model = KMeans(n_clusters=k, \n",
    "               max_iter=1)\n",
    "model.fit(shopping[features].values)"
   ]
  },
  {
   "cell_type": "markdown",
   "metadata": {
    "extensions": {
     "jupyter_dashboards": {
      "version": 1,
      "views": {
       "grid_default": {
        "col": 0,
        "height": 4,
        "hidden": false,
        "row": 115,
        "width": 4
       },
       "report_default": {}
      }
     }
    },
    "slideshow": {
     "slide_type": "slide"
    }
   },
   "source": [
    "### Assign clusters back to our dataframe"
   ]
  },
  {
   "cell_type": "code",
   "execution_count": 78,
   "metadata": {
    "extensions": {
     "jupyter_dashboards": {
      "version": 1,
      "views": {
       "grid_default": {
        "hidden": true
       },
       "report_default": {}
      }
     }
    },
    "slideshow": {
     "slide_type": "slide"
    }
   },
   "outputs": [
    {
     "data": {
      "image/png": "[encoded data removed]",
      "text/plain": [
       "<Figure size 504x432 with 1 Axes>"
      ]
     },
     "metadata": {},
     "output_type": "display_data"
    }
   ],
   "source": [
    "shopping_results = shopping.copy()\n",
    "shopping_results['cluster'] = model.labels_\n",
    "centroids  =  model.cluster_centers_\n",
    "\n",
    "base_colors  =  ['r', 'g', 'b', 'y', 'm']\n",
    "colors       =  [base_colors[centroid] for centroid in model.labels_]\n",
    "\n",
    "fig, ax      =  plt.subplots(figsize=(7,6))\n",
    "ax.scatter(shopping_results[features[0]], shopping_results[features[1]], c=colors);\n",
    "ax.scatter(centroids[:,0], centroids[:,1], c=base_colors, s=100);\n",
    "plt.ylabel(features[0]);\n",
    "plt.xlabel(features[1]);\n",
    "plt.ylabel(y, fontsize=15);\n",
    "plt.xlabel(x, fontsize=15);"
   ]
  },
  {
   "cell_type": "markdown",
   "metadata": {
    "extensions": {
     "jupyter_dashboards": {
      "version": 1,
      "views": {
       "grid_default": {
        "col": 4,
        "height": 4,
        "hidden": false,
        "row": 115,
        "width": 4
       },
       "report_default": {}
      }
     }
    },
    "slideshow": {
     "slide_type": "slide"
    }
   },
   "source": [
    "## Score"
   ]
  },
  {
   "cell_type": "code",
   "execution_count": 79,
   "metadata": {
    "extensions": {
     "jupyter_dashboards": {
      "version": 1,
      "views": {
       "grid_default": {
        "hidden": true
       },
       "report_default": {}
      }
     }
    },
    "slideshow": {
     "slide_type": "slide"
    }
   },
   "outputs": [
    {
     "name": "stdout",
     "output_type": "stream",
     "text": [
      "Silhouette Score:  0.32795864268218694\n",
      "Inertia Score:  13549645.91350577\n"
     ]
    }
   ],
   "source": [
    "silhouette = silhouette_score(shopping_results[features], \n",
    "                              shopping_results['cluster'], \n",
    "                              metric='euclidean')\n",
    "inertia = model.inertia_\n",
    "print(\"Silhouette Score: \", silhouette)\n",
    "print(\"Inertia Score: \", inertia)"
   ]
  },
  {
   "cell_type": "markdown",
   "metadata": {
    "extensions": {
     "jupyter_dashboards": {
      "version": 1,
      "views": {
       "grid_default": {
        "col": 8,
        "height": 4,
        "hidden": false,
        "row": 115,
        "width": 4
       },
       "report_default": {}
      }
     }
    },
    "slideshow": {
     "slide_type": "fragment"
    }
   },
   "source": [
    "### What's predicted "
   ]
  },
  {
   "cell_type": "code",
   "execution_count": null,
   "metadata": {
    "extensions": {
     "jupyter_dashboards": {
      "version": 1,
      "views": {
       "grid_default": {
        "hidden": true
       },
       "report_default": {}
      }
     }
    },
    "slideshow": {
     "slide_type": "fragment"
    }
   },
   "outputs": [],
   "source": [
    "print(list(model.labels_))"
   ]
  },
  {
   "cell_type": "code",
   "execution_count": 80,
   "metadata": {},
   "outputs": [
    {
     "data": {
      "text/html": [
       "<div>\n",
       "<style scoped>\n",
       "    .dataframe tbody tr th:only-of-type {\n",
       "        vertical-align: middle;\n",
       "    }\n",
       "\n",
       "    .dataframe tbody tr th {\n",
       "        vertical-align: top;\n",
       "    }\n",
       "\n",
       "    .dataframe thead th {\n",
       "        text-align: right;\n",
       "    }\n",
       "</style>\n",
       "<table border=\"1\" class=\"dataframe\">\n",
       "  <thead>\n",
       "    <tr style=\"text-align: right;\">\n",
       "      <th></th>\n",
       "      <th>loja</th>\n",
       "      <th>tamanho_da_loja</th>\n",
       "      <th>tamanho_da_frente_m</th>\n",
       "      <th>corredor</th>\n",
       "      <th>fluxo_de_pessoas_corredor_minuto</th>\n",
       "    </tr>\n",
       "  </thead>\n",
       "  <tbody>\n",
       "    <tr>\n",
       "      <th>0</th>\n",
       "      <td>0</td>\n",
       "      <td>41</td>\n",
       "      <td>5</td>\n",
       "      <td>3</td>\n",
       "      <td>24</td>\n",
       "    </tr>\n",
       "    <tr>\n",
       "      <th>1</th>\n",
       "      <td>1</td>\n",
       "      <td>42</td>\n",
       "      <td>5</td>\n",
       "      <td>1</td>\n",
       "      <td>26</td>\n",
       "    </tr>\n",
       "    <tr>\n",
       "      <th>2</th>\n",
       "      <td>2</td>\n",
       "      <td>29</td>\n",
       "      <td>5</td>\n",
       "      <td>2</td>\n",
       "      <td>20</td>\n",
       "    </tr>\n",
       "    <tr>\n",
       "      <th>3</th>\n",
       "      <td>3</td>\n",
       "      <td>33</td>\n",
       "      <td>3</td>\n",
       "      <td>4</td>\n",
       "      <td>26</td>\n",
       "    </tr>\n",
       "    <tr>\n",
       "      <th>4</th>\n",
       "      <td>4</td>\n",
       "      <td>29</td>\n",
       "      <td>2</td>\n",
       "      <td>4</td>\n",
       "      <td>20</td>\n",
       "    </tr>\n",
       "  </tbody>\n",
       "</table>\n",
       "</div>"
      ],
      "text/plain": [
       "   loja  tamanho_da_loja  tamanho_da_frente_m  corredor  \\\n",
       "0     0               41                    5         3   \n",
       "1     1               42                    5         1   \n",
       "2     2               29                    5         2   \n",
       "3     3               33                    3         4   \n",
       "4     4               29                    2         4   \n",
       "\n",
       "   fluxo_de_pessoas_corredor_minuto  \n",
       "0                                24  \n",
       "1                                26  \n",
       "2                                20  \n",
       "3                                26  \n",
       "4                                20  "
      ]
     },
     "execution_count": 80,
     "metadata": {},
     "output_type": "execute_result"
    },
    {
     "data": {
      "text/html": [
       "<div>\n",
       "<style scoped>\n",
       "    .dataframe tbody tr th:only-of-type {\n",
       "        vertical-align: middle;\n",
       "    }\n",
       "\n",
       "    .dataframe tbody tr th {\n",
       "        vertical-align: top;\n",
       "    }\n",
       "\n",
       "    .dataframe thead th {\n",
       "        text-align: right;\n",
       "    }\n",
       "</style>\n",
       "<table border=\"1\" class=\"dataframe\">\n",
       "  <thead>\n",
       "    <tr style=\"text-align: right;\">\n",
       "      <th></th>\n",
       "      <th>indice</th>\n",
       "      <th>segmento</th>\n",
       "      <th>quantidade_minima_domicilios</th>\n",
       "      <th>potencial_consumo_min</th>\n",
       "      <th>tamanho_loja_min</th>\n",
       "      <th>tamanho_loja_max</th>\n",
       "      <th>tamanho_min_frente</th>\n",
       "      <th>corredor</th>\n",
       "      <th>fluxo_minimo_pessoas_min</th>\n",
       "    </tr>\n",
       "  </thead>\n",
       "  <tbody>\n",
       "    <tr>\n",
       "      <th>0</th>\n",
       "      <td>1</td>\n",
       "      <td>7</td>\n",
       "      <td>8086</td>\n",
       "      <td>765</td>\n",
       "      <td>33</td>\n",
       "      <td>41</td>\n",
       "      <td>3.9</td>\n",
       "      <td>4</td>\n",
       "      <td>5</td>\n",
       "    </tr>\n",
       "    <tr>\n",
       "      <th>1</th>\n",
       "      <td>2</td>\n",
       "      <td>2</td>\n",
       "      <td>7945</td>\n",
       "      <td>767</td>\n",
       "      <td>26</td>\n",
       "      <td>48</td>\n",
       "      <td>4.0</td>\n",
       "      <td>1</td>\n",
       "      <td>5</td>\n",
       "    </tr>\n",
       "    <tr>\n",
       "      <th>2</th>\n",
       "      <td>3</td>\n",
       "      <td>3</td>\n",
       "      <td>8159</td>\n",
       "      <td>758</td>\n",
       "      <td>31</td>\n",
       "      <td>41</td>\n",
       "      <td>4.2</td>\n",
       "      <td>5</td>\n",
       "      <td>6</td>\n",
       "    </tr>\n",
       "    <tr>\n",
       "      <th>3</th>\n",
       "      <td>4</td>\n",
       "      <td>7</td>\n",
       "      <td>8228</td>\n",
       "      <td>787</td>\n",
       "      <td>33</td>\n",
       "      <td>47</td>\n",
       "      <td>3.8</td>\n",
       "      <td>2</td>\n",
       "      <td>5</td>\n",
       "    </tr>\n",
       "    <tr>\n",
       "      <th>4</th>\n",
       "      <td>5</td>\n",
       "      <td>1</td>\n",
       "      <td>7859</td>\n",
       "      <td>766</td>\n",
       "      <td>31</td>\n",
       "      <td>45</td>\n",
       "      <td>4.2</td>\n",
       "      <td>2</td>\n",
       "      <td>4</td>\n",
       "    </tr>\n",
       "  </tbody>\n",
       "</table>\n",
       "</div>"
      ],
      "text/plain": [
       "   indice  segmento  quantidade_minima_domicilios  potencial_consumo_min  \\\n",
       "0       1         7                          8086                    765   \n",
       "1       2         2                          7945                    767   \n",
       "2       3         3                          8159                    758   \n",
       "3       4         7                          8228                    787   \n",
       "4       5         1                          7859                    766   \n",
       "\n",
       "   tamanho_loja_min  tamanho_loja_max  tamanho_min_frente  corredor  \\\n",
       "0                33                41                 3.9         4   \n",
       "1                26                48                 4.0         1   \n",
       "2                31                41                 4.2         5   \n",
       "3                33                47                 3.8         2   \n",
       "4                31                45                 4.2         2   \n",
       "\n",
       "   fluxo_minimo_pessoas_min  \n",
       "0                         5  \n",
       "1                         5  \n",
       "2                         6  \n",
       "3                         5  \n",
       "4                         4  "
      ]
     },
     "execution_count": 80,
     "metadata": {},
     "output_type": "execute_result"
    },
    {
     "ename": "NameError",
     "evalue": "name 'raw' is not defined",
     "output_type": "error",
     "traceback": [
      "\u001b[0;31m---------------------------------------------------------------------------\u001b[0m",
      "\u001b[0;31mNameError\u001b[0m                                 Traceback (most recent call last)",
      "\u001b[0;32m<ipython-input-80-ae784e6a0cf1>\u001b[0m in \u001b[0;36m<module>\u001b[0;34m()\u001b[0m\n\u001b[1;32m      5\u001b[0m \u001b[0mvarejista\u001b[0m\u001b[0;34m\u001b[0m\u001b[0m\n\u001b[1;32m      6\u001b[0m \u001b[0;34m\u001b[0m\u001b[0m\n\u001b[0;32m----> 7\u001b[0;31m \u001b[0mrows\u001b[0m \u001b[0;34m=\u001b[0m \u001b[0mraw\u001b[0m\u001b[0;34m.\u001b[0m\u001b[0mshape\u001b[0m\u001b[0;34m[\u001b[0m\u001b[0;36m0\u001b[0m\u001b[0;34m]\u001b[0m\u001b[0;34m\u001b[0m\u001b[0m\n\u001b[0m\u001b[1;32m      8\u001b[0m \u001b[0mdf\u001b[0m \u001b[0;34m=\u001b[0m \u001b[0mcolumns_generator\u001b[0m\u001b[0;34m(\u001b[0m\u001b[0mraw\u001b[0m\u001b[0;34m,\u001b[0m \u001b[0;36m0.25\u001b[0m\u001b[0;34m)\u001b[0m\u001b[0;34m\u001b[0m\u001b[0m\n\u001b[1;32m      9\u001b[0m \u001b[0mdf\u001b[0m\u001b[0;34m[\u001b[0m\u001b[0;34m'corredor'\u001b[0m\u001b[0;34m]\u001b[0m \u001b[0;34m=\u001b[0m \u001b[0mdummy_generator\u001b[0m\u001b[0;34m(\u001b[0m\u001b[0mrows\u001b[0m\u001b[0;34m,\u001b[0m \u001b[0;36m4\u001b[0m\u001b[0;34m)\u001b[0m\u001b[0;34m\u001b[0m\u001b[0m\n",
      "\u001b[0;31mNameError\u001b[0m: name 'raw' is not defined"
     ]
    }
   ],
   "source": [
    "loja = pd.read_csv('dataloja.csv')\n",
    "loja.head()\n",
    "\n",
    "varejista = pd.read_csv('datavarejista.csv').head()\n",
    "varejista\n",
    "\n",
    "rows = raw.shape[0]\n",
    "df = columns_generator(raw, 0.25)\n",
    "df['corredor'] = dummy_generator(rows, 4)\n",
    "df.head()"
   ]
  },
  {
   "cell_type": "markdown",
   "metadata": {
    "extensions": {
     "jupyter_dashboards": {
      "version": 1,
      "views": {
       "grid_default": {
        "col": 0,
        "height": 4,
        "hidden": false,
        "row": 119,
        "width": 4
       },
       "report_default": {}
      }
     }
    },
    "slideshow": {
     "slide_type": "slide"
    }
   },
   "source": [
    "<a id='scaling'></a>\n",
    "### Try standardizing the data first and see how it affects the cluster assignment\n"
   ]
  },
  {
   "cell_type": "code",
   "execution_count": null,
   "metadata": {
    "extensions": {
     "jupyter_dashboards": {
      "version": 1,
      "views": {
       "grid_default": {
        "hidden": true
       },
       "report_default": {}
      }
     }
    }
   },
   "outputs": [],
   "source": [
    "from sklearn.preprocessing import StandardScaler\n",
    "\n",
    "k = 3\n",
    "\n",
    "\n",
    "ss = StandardScaler()\n",
    "df[features] = ss.fit_transform(df[features])\n",
    "\n",
    "model = KMeans(n_clusters = k)\n",
    "model.fit(df[features])\n",
    "\n",
    "# Check our results\n",
    "# Assign clusters back to our dataframe\n",
    "df['cluster'] = model.labels_\n",
    "\n",
    "# Get our centrois\n",
    "centroids = model.cluster_centers_\n",
    "\n",
    "# Setup some sweet colors for plotting (for later)\n",
    "# colors = {'D':'red', 'E':'blue', 'F':'green'}\n",
    "base_colors  =  ['r', 'g', 'b', 'y', 'k']\n",
    "colors       =  [base_colors[centroid] for centroid in model.labels_]\n",
    "\n",
    "# update x,y of our final clusters to plot later\n",
    "fig, ax = plt.subplots(figsize=(6,6))\n",
    "\n",
    "# Plot the scatter of our points with calculated centroids\n",
    "ax.scatter(df[features[0]], df[features[1]], c=colors) # can also pass df['clusters'] as colors for quick and dirty plots\n",
    "ax.scatter(centroids[:,0], centroids[:,1], c=base_colors, s=100) # cc.index\n",
    "\n",
    "# And our score\n",
    "silhouette = silhouette_score(df[features], df['cluster'], metric='euclidean')\n",
    "inertia = model.inertia_\n",
    "print(\"Silhouette Score: \", silhouette)\n",
    "print(\"Inertia Score: \", inertia)"
   ]
  },
  {
   "cell_type": "code",
   "execution_count": null,
   "metadata": {
    "extensions": {
     "jupyter_dashboards": {
      "version": 1,
      "views": {
       "grid_default": {
        "hidden": true
       },
       "report_default": {}
      }
     }
    }
   },
   "outputs": [],
   "source": [
    "# As you can see, sometimes there is not a well-defined elbow!\n",
    "inertias = []\n",
    "k_list = list(range(2,30))\n",
    "for n_clusters in k_list:\n",
    "    kmeans = KMeans(n_clusters=n_clusters)\n",
    "    kmeans.fit(df[features])\n",
    "    inertia = kmeans.inertia_\n",
    "    inertias.append(inertia.mean())\n",
    "\n",
    "plt.plot(k_list, inertias, 'rx-')\n",
    "plt.ylabel(\"Inertia\")\n",
    "plt.xlabel(\"x\")\n",
    "plt.title(\"Inertia\");"
   ]
  },
  {
   "cell_type": "code",
   "execution_count": null,
   "metadata": {
    "extensions": {
     "jupyter_dashboards": {
      "version": 1,
      "views": {
       "grid_default": {
        "hidden": true
       },
       "report_default": {}
      }
     }
    }
   },
   "outputs": [],
   "source": []
  }
 ],
 "metadata": {
  "anaconda-cloud": {},
  "extensions": {
   "jupyter_dashboards": {
    "activeView": "grid_default",
    "version": 1,
    "views": {
     "grid_default": {
      "cellMargin": 10,
      "defaultCellHeight": 20,
      "maxColumns": 12,
      "name": "grid",
      "type": "grid"
     },
     "report_default": {
      "name": "report",
      "type": "report"
     }
    }
   }
  },
  "kernelspec": {
   "display_name": "Python 3",
   "language": "python",
   "name": "python3"
  },
  "language_info": {
   "codemirror_mode": {
    "name": "ipython",
    "version": 3
   },
   "file_extension": ".py",
   "mimetype": "text/x-python",
   "name": "python",
   "nbconvert_exporter": "python",
   "pygments_lexer": "ipython3",
   "version": "3.6.5"
  }
 },
 "nbformat": 4,
 "nbformat_minor": 1
}
